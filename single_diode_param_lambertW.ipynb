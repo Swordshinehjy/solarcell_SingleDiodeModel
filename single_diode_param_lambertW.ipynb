{
 "cells": [
  {
   "cell_type": "code",
   "execution_count": null,
   "metadata": {},
   "outputs": [],
   "source": [
    "import numpy as np\n",
    "from scipy.optimize import fsolve, minimize_scalar\n",
    "from scipy.constants import k, e\n",
    "from scipy.special import lambertw\n",
    "\n",
    "T = 300  # K\n",
    "q = e  # C\n",
    "Vt = k * T / q  # Thermal voltage, V\n",
    "\n",
    "Jph_mA_cm2 =  26.3 # mA/cm²\n",
    "Jph = Jph_mA_cm2 / 1000  # A/cm²\n",
    "J0_mA_cm2 = 1.165176e-13 # mA/cm²\n",
    "J0 = J0_mA_cm2 / 1000  # A/cm²\n",
    "Rs = 0.8156  # Series resistence, Ω·cm²\n",
    "Rsh = 2853 # Shunt resistence, Ω·cm²\n",
    "n = 1.349362  # ideal factor"
   ]
  },
  {
   "cell_type": "code",
   "execution_count": null,
   "metadata": {},
   "outputs": [
    {
     "name": "stdout",
     "output_type": "stream",
     "text": [
      "0.026292483648908405\n",
      "1.1523771539088783\n"
     ]
    }
   ],
   "source": [
    "def explicit_current_density(V, Jph, J0, Rs, Rsh, n):\n",
    "    w = Rs * J0 * Rsh * np.exp(Rsh * (Rs * Jph + Rs * J0 + V) /\n",
    "                               (n * Vt * (Rs + Rsh))) / (n * Vt * (Rs + Rsh))\n",
    "    return (-V / (Rs + Rsh) - lambertw(w) * n * Vt / Rs + Rsh * (J0 + Jph) /\n",
    "            (Rs + Rsh)).real\n",
    "\n",
    "\n",
    "def explicit_voltage(J, Jph, J0, Rs, Rsh, n):\n",
    "    w = J0 * Rsh * np.exp(Rsh * (-J + Jph + J0) / (n * Vt)) / (n * Vt)\n",
    "    return (-J * Rs - J * Rsh + Jph * Rsh - n * Vt * lambertw(w) +\n",
    "            J0 * Rsh).real\n",
    "\n",
    "\n",
    "def Jsc(Jph, J0, Rs, Rsh, n):\n",
    "    w = Rs * Rsh * J0 * np.exp(Rsh * (Rs * Jph + Rs * J0) /\n",
    "                               (n * Vt * (Rs + Rsh))) / (n * Vt * (Rs + Rsh))\n",
    "    return (-lambertw(w) * n * Vt / Rs + Rsh * (Jph + J0) / (Rs + Rsh)).real\n",
    "\n",
    "\n",
    "def Voc(Jph, J0, Rs, Rsh, n):\n",
    "    exponent = Rsh * (Jph + J0) / (n * Vt)\n",
    "    if exponent > 700:  # appoximation for large exponent\n",
    "        L1 = np.log(J0 * Rsh / (n * Vt)) + exponent  # ln(w)\n",
    "        L2 = np.log(L1)  # ln(ln(w))\n",
    "        W0 = L1 - L2\n",
    "\n",
    "        def lambert_literate(w):\n",
    "            # ln(w) + w = L1\n",
    "            f = np.log(w) + w - L1\n",
    "            df = 1.0 / w + 1.0\n",
    "            delta = f / df\n",
    "            return w - delta\n",
    "\n",
    "        # newton iteration\n",
    "        W = W0\n",
    "        for _ in range(20):\n",
    "            W_next = lambert_literate(W)\n",
    "            # threshold for convergence\n",
    "            if np.abs(W_next - W) < 1e-10:\n",
    "                W = W_next\n",
    "                break\n",
    "            W = W_next\n",
    "        W = W.real\n",
    "    else:\n",
    "        w = J0 * Rsh * np.exp(exponent) / (n * Vt)\n",
    "        W = lambertw(w).real\n",
    "    return (Jph * Rsh - n * Vt * W + J0 * Rsh).real\n",
    "\n",
    "\n",
    "print(Jsc(Jph, J0, Rs, Rsh, n))\n",
    "print(Voc(Jph, J0, Rs, Rsh, n))"
   ]
  }
 ],
 "metadata": {
  "kernelspec": {
   "display_name": "Python 3",
   "language": "python",
   "name": "python3"
  },
  "language_info": {
   "codemirror_mode": {
    "name": "ipython",
    "version": 3
   },
   "file_extension": ".py",
   "mimetype": "text/x-python",
   "name": "python",
   "nbconvert_exporter": "python",
   "pygments_lexer": "ipython3",
   "version": "3.13.2"
  }
 },
 "nbformat": 4,
 "nbformat_minor": 2
}
